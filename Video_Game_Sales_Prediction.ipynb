{
 "cells": [
  {
   "cell_type": "markdown",
   "id": "4b0cef46",
   "metadata": {},
   "source": [
    "# Prediction of Video Game Sales using Regression\n",
    "As someone who loves grabbing my Nintendo Switch to break away from reality, one of the most exciting yet complex parts of being a gamer is buying a new game, just because there are so many things to consider. A lot of factors can make or break a game's commercial success, including the hype around it, customer satisfaction, the console its launched on and several other intangibles. So I thought it would be interesting to try and quantify these as best possible using a video game sales-reviews dataset (latest as of 2016) from kaggle and building a regression model to predict future sales of games."
   ]
  },
  {
   "cell_type": "markdown",
   "id": "e342c7a8",
   "metadata": {},
   "source": [
    "## Contents\n",
    "1. Data Pre-Processing\n",
    "2. Exploratory Data Analysis\n",
    "3. Comparing Different Regression Models\n",
    "4. Conclusion and Deployment of Final Model "
   ]
  },
  {
   "cell_type": "markdown",
   "id": "357ddc90",
   "metadata": {},
   "source": [
    "### 1. Data Pre-Processing"
   ]
  },
  {
   "cell_type": "code",
   "execution_count": 1,
   "id": "297ac151",
   "metadata": {},
   "outputs": [],
   "source": [
    "# Loading Standard Libraries for Data Handling\n",
    "import pandas as pd\n",
    "import numpy as np"
   ]
  },
  {
   "cell_type": "code",
   "execution_count": 2,
   "id": "6aa92d62",
   "metadata": {},
   "outputs": [
    {
     "data": {
      "text/html": [
       "<div>\n",
       "<style scoped>\n",
       "    .dataframe tbody tr th:only-of-type {\n",
       "        vertical-align: middle;\n",
       "    }\n",
       "\n",
       "    .dataframe tbody tr th {\n",
       "        vertical-align: top;\n",
       "    }\n",
       "\n",
       "    .dataframe thead th {\n",
       "        text-align: right;\n",
       "    }\n",
       "</style>\n",
       "<table border=\"1\" class=\"dataframe\">\n",
       "  <thead>\n",
       "    <tr style=\"text-align: right;\">\n",
       "      <th></th>\n",
       "      <th>Name</th>\n",
       "      <th>Platform</th>\n",
       "      <th>Year_of_Release</th>\n",
       "      <th>Genre</th>\n",
       "      <th>Publisher</th>\n",
       "      <th>NA_Sales</th>\n",
       "      <th>EU_Sales</th>\n",
       "      <th>JP_Sales</th>\n",
       "      <th>Other_Sales</th>\n",
       "      <th>Global_Sales</th>\n",
       "      <th>Critic_Score</th>\n",
       "      <th>Critic_Count</th>\n",
       "      <th>User_Score</th>\n",
       "      <th>User_Count</th>\n",
       "      <th>Developer</th>\n",
       "      <th>Rating</th>\n",
       "    </tr>\n",
       "  </thead>\n",
       "  <tbody>\n",
       "    <tr>\n",
       "      <th>0</th>\n",
       "      <td>Wii Sports</td>\n",
       "      <td>Wii</td>\n",
       "      <td>2006.0</td>\n",
       "      <td>Sports</td>\n",
       "      <td>Nintendo</td>\n",
       "      <td>41.36</td>\n",
       "      <td>28.96</td>\n",
       "      <td>3.77</td>\n",
       "      <td>8.45</td>\n",
       "      <td>82.53</td>\n",
       "      <td>76.0</td>\n",
       "      <td>51.0</td>\n",
       "      <td>8</td>\n",
       "      <td>322.0</td>\n",
       "      <td>Nintendo</td>\n",
       "      <td>E</td>\n",
       "    </tr>\n",
       "    <tr>\n",
       "      <th>1</th>\n",
       "      <td>Super Mario Bros.</td>\n",
       "      <td>NES</td>\n",
       "      <td>1985.0</td>\n",
       "      <td>Platform</td>\n",
       "      <td>Nintendo</td>\n",
       "      <td>29.08</td>\n",
       "      <td>3.58</td>\n",
       "      <td>6.81</td>\n",
       "      <td>0.77</td>\n",
       "      <td>40.24</td>\n",
       "      <td>NaN</td>\n",
       "      <td>NaN</td>\n",
       "      <td>NaN</td>\n",
       "      <td>NaN</td>\n",
       "      <td>NaN</td>\n",
       "      <td>NaN</td>\n",
       "    </tr>\n",
       "    <tr>\n",
       "      <th>2</th>\n",
       "      <td>Mario Kart Wii</td>\n",
       "      <td>Wii</td>\n",
       "      <td>2008.0</td>\n",
       "      <td>Racing</td>\n",
       "      <td>Nintendo</td>\n",
       "      <td>15.68</td>\n",
       "      <td>12.76</td>\n",
       "      <td>3.79</td>\n",
       "      <td>3.29</td>\n",
       "      <td>35.52</td>\n",
       "      <td>82.0</td>\n",
       "      <td>73.0</td>\n",
       "      <td>8.3</td>\n",
       "      <td>709.0</td>\n",
       "      <td>Nintendo</td>\n",
       "      <td>E</td>\n",
       "    </tr>\n",
       "    <tr>\n",
       "      <th>3</th>\n",
       "      <td>Wii Sports Resort</td>\n",
       "      <td>Wii</td>\n",
       "      <td>2009.0</td>\n",
       "      <td>Sports</td>\n",
       "      <td>Nintendo</td>\n",
       "      <td>15.61</td>\n",
       "      <td>10.93</td>\n",
       "      <td>3.28</td>\n",
       "      <td>2.95</td>\n",
       "      <td>32.77</td>\n",
       "      <td>80.0</td>\n",
       "      <td>73.0</td>\n",
       "      <td>8</td>\n",
       "      <td>192.0</td>\n",
       "      <td>Nintendo</td>\n",
       "      <td>E</td>\n",
       "    </tr>\n",
       "    <tr>\n",
       "      <th>4</th>\n",
       "      <td>Pokemon Red/Pokemon Blue</td>\n",
       "      <td>GB</td>\n",
       "      <td>1996.0</td>\n",
       "      <td>Role-Playing</td>\n",
       "      <td>Nintendo</td>\n",
       "      <td>11.27</td>\n",
       "      <td>8.89</td>\n",
       "      <td>10.22</td>\n",
       "      <td>1.00</td>\n",
       "      <td>31.37</td>\n",
       "      <td>NaN</td>\n",
       "      <td>NaN</td>\n",
       "      <td>NaN</td>\n",
       "      <td>NaN</td>\n",
       "      <td>NaN</td>\n",
       "      <td>NaN</td>\n",
       "    </tr>\n",
       "    <tr>\n",
       "      <th>...</th>\n",
       "      <td>...</td>\n",
       "      <td>...</td>\n",
       "      <td>...</td>\n",
       "      <td>...</td>\n",
       "      <td>...</td>\n",
       "      <td>...</td>\n",
       "      <td>...</td>\n",
       "      <td>...</td>\n",
       "      <td>...</td>\n",
       "      <td>...</td>\n",
       "      <td>...</td>\n",
       "      <td>...</td>\n",
       "      <td>...</td>\n",
       "      <td>...</td>\n",
       "      <td>...</td>\n",
       "      <td>...</td>\n",
       "    </tr>\n",
       "    <tr>\n",
       "      <th>16714</th>\n",
       "      <td>Samurai Warriors: Sanada Maru</td>\n",
       "      <td>PS3</td>\n",
       "      <td>2016.0</td>\n",
       "      <td>Action</td>\n",
       "      <td>Tecmo Koei</td>\n",
       "      <td>0.00</td>\n",
       "      <td>0.00</td>\n",
       "      <td>0.01</td>\n",
       "      <td>0.00</td>\n",
       "      <td>0.01</td>\n",
       "      <td>NaN</td>\n",
       "      <td>NaN</td>\n",
       "      <td>NaN</td>\n",
       "      <td>NaN</td>\n",
       "      <td>NaN</td>\n",
       "      <td>NaN</td>\n",
       "    </tr>\n",
       "    <tr>\n",
       "      <th>16715</th>\n",
       "      <td>LMA Manager 2007</td>\n",
       "      <td>X360</td>\n",
       "      <td>2006.0</td>\n",
       "      <td>Sports</td>\n",
       "      <td>Codemasters</td>\n",
       "      <td>0.00</td>\n",
       "      <td>0.01</td>\n",
       "      <td>0.00</td>\n",
       "      <td>0.00</td>\n",
       "      <td>0.01</td>\n",
       "      <td>NaN</td>\n",
       "      <td>NaN</td>\n",
       "      <td>NaN</td>\n",
       "      <td>NaN</td>\n",
       "      <td>NaN</td>\n",
       "      <td>NaN</td>\n",
       "    </tr>\n",
       "    <tr>\n",
       "      <th>16716</th>\n",
       "      <td>Haitaka no Psychedelica</td>\n",
       "      <td>PSV</td>\n",
       "      <td>2016.0</td>\n",
       "      <td>Adventure</td>\n",
       "      <td>Idea Factory</td>\n",
       "      <td>0.00</td>\n",
       "      <td>0.00</td>\n",
       "      <td>0.01</td>\n",
       "      <td>0.00</td>\n",
       "      <td>0.01</td>\n",
       "      <td>NaN</td>\n",
       "      <td>NaN</td>\n",
       "      <td>NaN</td>\n",
       "      <td>NaN</td>\n",
       "      <td>NaN</td>\n",
       "      <td>NaN</td>\n",
       "    </tr>\n",
       "    <tr>\n",
       "      <th>16717</th>\n",
       "      <td>Spirits &amp; Spells</td>\n",
       "      <td>GBA</td>\n",
       "      <td>2003.0</td>\n",
       "      <td>Platform</td>\n",
       "      <td>Wanadoo</td>\n",
       "      <td>0.01</td>\n",
       "      <td>0.00</td>\n",
       "      <td>0.00</td>\n",
       "      <td>0.00</td>\n",
       "      <td>0.01</td>\n",
       "      <td>NaN</td>\n",
       "      <td>NaN</td>\n",
       "      <td>NaN</td>\n",
       "      <td>NaN</td>\n",
       "      <td>NaN</td>\n",
       "      <td>NaN</td>\n",
       "    </tr>\n",
       "    <tr>\n",
       "      <th>16718</th>\n",
       "      <td>Winning Post 8 2016</td>\n",
       "      <td>PSV</td>\n",
       "      <td>2016.0</td>\n",
       "      <td>Simulation</td>\n",
       "      <td>Tecmo Koei</td>\n",
       "      <td>0.00</td>\n",
       "      <td>0.00</td>\n",
       "      <td>0.01</td>\n",
       "      <td>0.00</td>\n",
       "      <td>0.01</td>\n",
       "      <td>NaN</td>\n",
       "      <td>NaN</td>\n",
       "      <td>NaN</td>\n",
       "      <td>NaN</td>\n",
       "      <td>NaN</td>\n",
       "      <td>NaN</td>\n",
       "    </tr>\n",
       "  </tbody>\n",
       "</table>\n",
       "<p>16719 rows × 16 columns</p>\n",
       "</div>"
      ],
      "text/plain": [
       "                                Name Platform  Year_of_Release         Genre  \\\n",
       "0                         Wii Sports      Wii           2006.0        Sports   \n",
       "1                  Super Mario Bros.      NES           1985.0      Platform   \n",
       "2                     Mario Kart Wii      Wii           2008.0        Racing   \n",
       "3                  Wii Sports Resort      Wii           2009.0        Sports   \n",
       "4           Pokemon Red/Pokemon Blue       GB           1996.0  Role-Playing   \n",
       "...                              ...      ...              ...           ...   \n",
       "16714  Samurai Warriors: Sanada Maru      PS3           2016.0        Action   \n",
       "16715               LMA Manager 2007     X360           2006.0        Sports   \n",
       "16716        Haitaka no Psychedelica      PSV           2016.0     Adventure   \n",
       "16717               Spirits & Spells      GBA           2003.0      Platform   \n",
       "16718            Winning Post 8 2016      PSV           2016.0    Simulation   \n",
       "\n",
       "          Publisher  NA_Sales  EU_Sales  JP_Sales  Other_Sales  Global_Sales  \\\n",
       "0          Nintendo     41.36     28.96      3.77         8.45         82.53   \n",
       "1          Nintendo     29.08      3.58      6.81         0.77         40.24   \n",
       "2          Nintendo     15.68     12.76      3.79         3.29         35.52   \n",
       "3          Nintendo     15.61     10.93      3.28         2.95         32.77   \n",
       "4          Nintendo     11.27      8.89     10.22         1.00         31.37   \n",
       "...             ...       ...       ...       ...          ...           ...   \n",
       "16714    Tecmo Koei      0.00      0.00      0.01         0.00          0.01   \n",
       "16715   Codemasters      0.00      0.01      0.00         0.00          0.01   \n",
       "16716  Idea Factory      0.00      0.00      0.01         0.00          0.01   \n",
       "16717       Wanadoo      0.01      0.00      0.00         0.00          0.01   \n",
       "16718    Tecmo Koei      0.00      0.00      0.01         0.00          0.01   \n",
       "\n",
       "       Critic_Score  Critic_Count User_Score  User_Count Developer Rating  \n",
       "0              76.0          51.0          8       322.0  Nintendo      E  \n",
       "1               NaN           NaN        NaN         NaN       NaN    NaN  \n",
       "2              82.0          73.0        8.3       709.0  Nintendo      E  \n",
       "3              80.0          73.0          8       192.0  Nintendo      E  \n",
       "4               NaN           NaN        NaN         NaN       NaN    NaN  \n",
       "...             ...           ...        ...         ...       ...    ...  \n",
       "16714           NaN           NaN        NaN         NaN       NaN    NaN  \n",
       "16715           NaN           NaN        NaN         NaN       NaN    NaN  \n",
       "16716           NaN           NaN        NaN         NaN       NaN    NaN  \n",
       "16717           NaN           NaN        NaN         NaN       NaN    NaN  \n",
       "16718           NaN           NaN        NaN         NaN       NaN    NaN  \n",
       "\n",
       "[16719 rows x 16 columns]"
      ]
     },
     "execution_count": 2,
     "metadata": {},
     "output_type": "execute_result"
    }
   ],
   "source": [
    "# Loading Dataset downloaded from Kaggle\n",
    "df = pd.read_csv(\"Video_Games_Sales_as_at_22_Dec_2016.csv\")\n",
    "df"
   ]
  },
  {
   "cell_type": "code",
   "execution_count": 3,
   "id": "21fb7e78",
   "metadata": {},
   "outputs": [
    {
     "name": "stdout",
     "output_type": "stream",
     "text": [
      "Name : 2\n",
      "Platform : 0\n",
      "Year_of_Release : 269\n",
      "Genre : 2\n",
      "Publisher : 54\n",
      "NA_Sales : 0\n",
      "EU_Sales : 0\n",
      "JP_Sales : 0\n",
      "Other_Sales : 0\n",
      "Global_Sales : 0\n",
      "Critic_Score : 8582\n",
      "Critic_Count : 8582\n",
      "User_Score : 6704\n",
      "User_Count : 9129\n",
      "Developer : 6623\n",
      "Rating : 6769\n"
     ]
    }
   ],
   "source": [
    "# Checking for NaN values\n",
    "for i in df.columns:\n",
    "    print('{} : {}'.format(i,df[i].isnull().values.sum()))"
   ]
  },
  {
   "cell_type": "code",
   "execution_count": 4,
   "id": "01be74ef",
   "metadata": {},
   "outputs": [
    {
     "name": "stdout",
     "output_type": "stream",
     "text": [
      "Name : 11563\n",
      "Platform : 31\n",
      "Year_of_Release : 40\n",
      "Genre : 13\n",
      "Publisher : 582\n",
      "NA_Sales : 402\n",
      "EU_Sales : 307\n",
      "JP_Sales : 244\n",
      "Other_Sales : 155\n",
      "Global_Sales : 629\n",
      "Critic_Score : 83\n",
      "Critic_Count : 107\n",
      "User_Score : 97\n",
      "User_Count : 889\n",
      "Developer : 1697\n",
      "Rating : 9\n"
     ]
    }
   ],
   "source": [
    "# Checking no. of unique values\n",
    "for i in df.columns:\n",
    "    print('{} : {}'.format(i,len(df[i].unique())))"
   ]
  },
  {
   "cell_type": "code",
   "execution_count": 5,
   "id": "fd557220",
   "metadata": {},
   "outputs": [
    {
     "data": {
      "text/plain": [
       "Name                object\n",
       "Platform            object\n",
       "Year_of_Release    float64\n",
       "Genre               object\n",
       "Publisher           object\n",
       "NA_Sales           float64\n",
       "EU_Sales           float64\n",
       "JP_Sales           float64\n",
       "Other_Sales        float64\n",
       "Global_Sales       float64\n",
       "Critic_Score       float64\n",
       "Critic_Count       float64\n",
       "User_Score          object\n",
       "User_Count         float64\n",
       "Developer           object\n",
       "Rating              object\n",
       "dtype: object"
      ]
     },
     "execution_count": 5,
     "metadata": {},
     "output_type": "execute_result"
    }
   ],
   "source": [
    "# Checking for data types\n",
    "df.dtypes"
   ]
  },
  {
   "cell_type": "code",
   "execution_count": 6,
   "id": "ba5817b6",
   "metadata": {},
   "outputs": [
    {
     "data": {
      "text/plain": [
       "(6825, 11)"
      ]
     },
     "execution_count": 6,
     "metadata": {},
     "output_type": "execute_result"
    }
   ],
   "source": [
    "df = df[['Name','Platform','Year_of_Release','Genre','Publisher','Critic_Score','Critic_Count','User_Score','User_Count','Rating','Global_Sales']]\n",
    "df = df.dropna()\n",
    "df['User_Score'] = pd.to_numeric(df['User_Score'])\n",
    "df.shape"
   ]
  },
  {
   "cell_type": "code",
   "execution_count": 7,
   "id": "8983a81e",
   "metadata": {},
   "outputs": [
    {
     "data": {
      "text/plain": [
       "array(['Wii', 'DS', 'X360', 'PS3', 'PS2', '3DS', 'PS4', 'PS', 'XB', 'PC',\n",
       "       'PSP', 'WiiU', 'GC', 'GBA', 'XOne', 'PSV', 'DC'], dtype=object)"
      ]
     },
     "execution_count": 7,
     "metadata": {},
     "output_type": "execute_result"
    }
   ],
   "source": [
    "df['Platform'].unique()"
   ]
  },
  {
   "cell_type": "code",
   "execution_count": 8,
   "id": "a05e8dec",
   "metadata": {},
   "outputs": [
    {
     "data": {
      "text/plain": [
       "array(['Wii', 'DS', 'XB', 'PS', 'PC', 'PSP', 'GC', 'GBA', 'PSV', 'DC'],\n",
       "      dtype=object)"
      ]
     },
     "execution_count": 8,
     "metadata": {},
     "output_type": "execute_result"
    }
   ],
   "source": [
    "# Adjusting for platform series\n",
    "Platform_Map = pd.DataFrame({'Platform':['Wii', 'DS', 'X360', 'PS3', 'PS2', '3DS', 'PS4', 'PS', 'XB', 'PC', 'PSP', 'WiiU', 'GC', 'GBA', 'XOne', 'PSV', 'DC'],\n",
    "                             'Platform_New':['Wii', 'DS', 'XB', 'PS', 'PS', 'DS', 'PS', 'PS', 'XB', 'PC', 'PSP', 'Wii', 'GC', 'GBA', 'XB', 'PSV', 'DC']})\n",
    "df = pd.merge(df,Platform_Map,how='left')\n",
    "df['Platform'] = df['Platform_New']\n",
    "df = df.drop(['Platform_New'],axis=1)\n",
    "df['Platform'].unique()"
   ]
  },
  {
   "cell_type": "code",
   "execution_count": 9,
   "id": "a3145d74",
   "metadata": {},
   "outputs": [
    {
     "data": {
      "text/html": [
       "<div>\n",
       "<style scoped>\n",
       "    .dataframe tbody tr th:only-of-type {\n",
       "        vertical-align: middle;\n",
       "    }\n",
       "\n",
       "    .dataframe tbody tr th {\n",
       "        vertical-align: top;\n",
       "    }\n",
       "\n",
       "    .dataframe thead th {\n",
       "        text-align: right;\n",
       "    }\n",
       "</style>\n",
       "<table border=\"1\" class=\"dataframe\">\n",
       "  <thead>\n",
       "    <tr style=\"text-align: right;\">\n",
       "      <th></th>\n",
       "      <th>Name</th>\n",
       "      <th>Platform</th>\n",
       "      <th>Year_of_Release</th>\n",
       "      <th>Genre</th>\n",
       "      <th>Publisher</th>\n",
       "      <th>Critic_Score</th>\n",
       "      <th>Critic_Count</th>\n",
       "      <th>User_Score</th>\n",
       "      <th>User_Count</th>\n",
       "      <th>Rating</th>\n",
       "      <th>Global_Sales</th>\n",
       "    </tr>\n",
       "  </thead>\n",
       "  <tbody>\n",
       "    <tr>\n",
       "      <th>0</th>\n",
       "      <td>Wii Sports</td>\n",
       "      <td>Wii</td>\n",
       "      <td>2006.0</td>\n",
       "      <td>Sports</td>\n",
       "      <td>Nintendo</td>\n",
       "      <td>76.0</td>\n",
       "      <td>51.0</td>\n",
       "      <td>8.0</td>\n",
       "      <td>322.0</td>\n",
       "      <td>E</td>\n",
       "      <td>82.53</td>\n",
       "    </tr>\n",
       "    <tr>\n",
       "      <th>1</th>\n",
       "      <td>Mario Kart Wii</td>\n",
       "      <td>Wii</td>\n",
       "      <td>2008.0</td>\n",
       "      <td>Racing</td>\n",
       "      <td>Nintendo</td>\n",
       "      <td>82.0</td>\n",
       "      <td>73.0</td>\n",
       "      <td>8.3</td>\n",
       "      <td>709.0</td>\n",
       "      <td>E</td>\n",
       "      <td>35.52</td>\n",
       "    </tr>\n",
       "    <tr>\n",
       "      <th>2</th>\n",
       "      <td>Wii Sports Resort</td>\n",
       "      <td>Wii</td>\n",
       "      <td>2009.0</td>\n",
       "      <td>Sports</td>\n",
       "      <td>Nintendo</td>\n",
       "      <td>80.0</td>\n",
       "      <td>73.0</td>\n",
       "      <td>8.0</td>\n",
       "      <td>192.0</td>\n",
       "      <td>E</td>\n",
       "      <td>32.77</td>\n",
       "    </tr>\n",
       "    <tr>\n",
       "      <th>3</th>\n",
       "      <td>New Super Mario Bros.</td>\n",
       "      <td>DS</td>\n",
       "      <td>2006.0</td>\n",
       "      <td>Platform</td>\n",
       "      <td>Nintendo</td>\n",
       "      <td>89.0</td>\n",
       "      <td>65.0</td>\n",
       "      <td>8.5</td>\n",
       "      <td>431.0</td>\n",
       "      <td>E</td>\n",
       "      <td>29.80</td>\n",
       "    </tr>\n",
       "    <tr>\n",
       "      <th>4</th>\n",
       "      <td>Wii Play</td>\n",
       "      <td>Wii</td>\n",
       "      <td>2006.0</td>\n",
       "      <td>Misc</td>\n",
       "      <td>Nintendo</td>\n",
       "      <td>58.0</td>\n",
       "      <td>41.0</td>\n",
       "      <td>6.6</td>\n",
       "      <td>129.0</td>\n",
       "      <td>E</td>\n",
       "      <td>28.92</td>\n",
       "    </tr>\n",
       "    <tr>\n",
       "      <th>...</th>\n",
       "      <td>...</td>\n",
       "      <td>...</td>\n",
       "      <td>...</td>\n",
       "      <td>...</td>\n",
       "      <td>...</td>\n",
       "      <td>...</td>\n",
       "      <td>...</td>\n",
       "      <td>...</td>\n",
       "      <td>...</td>\n",
       "      <td>...</td>\n",
       "      <td>...</td>\n",
       "    </tr>\n",
       "    <tr>\n",
       "      <th>6820</th>\n",
       "      <td>E.T. The Extra-Terrestrial</td>\n",
       "      <td>GBA</td>\n",
       "      <td>2001.0</td>\n",
       "      <td>Action</td>\n",
       "      <td>NewKidCo</td>\n",
       "      <td>46.0</td>\n",
       "      <td>4.0</td>\n",
       "      <td>2.4</td>\n",
       "      <td>21.0</td>\n",
       "      <td>E</td>\n",
       "      <td>0.01</td>\n",
       "    </tr>\n",
       "    <tr>\n",
       "      <th>6821</th>\n",
       "      <td>Mortal Kombat: Deadly Alliance</td>\n",
       "      <td>GBA</td>\n",
       "      <td>2002.0</td>\n",
       "      <td>Fighting</td>\n",
       "      <td>Midway Games</td>\n",
       "      <td>81.0</td>\n",
       "      <td>12.0</td>\n",
       "      <td>8.8</td>\n",
       "      <td>9.0</td>\n",
       "      <td>M</td>\n",
       "      <td>0.01</td>\n",
       "    </tr>\n",
       "    <tr>\n",
       "      <th>6822</th>\n",
       "      <td>Metal Gear Solid V: Ground Zeroes</td>\n",
       "      <td>PC</td>\n",
       "      <td>2014.0</td>\n",
       "      <td>Action</td>\n",
       "      <td>Konami Digital Entertainment</td>\n",
       "      <td>80.0</td>\n",
       "      <td>20.0</td>\n",
       "      <td>7.6</td>\n",
       "      <td>412.0</td>\n",
       "      <td>M</td>\n",
       "      <td>0.01</td>\n",
       "    </tr>\n",
       "    <tr>\n",
       "      <th>6823</th>\n",
       "      <td>Breach</td>\n",
       "      <td>PC</td>\n",
       "      <td>2011.0</td>\n",
       "      <td>Shooter</td>\n",
       "      <td>Destineer</td>\n",
       "      <td>61.0</td>\n",
       "      <td>12.0</td>\n",
       "      <td>5.8</td>\n",
       "      <td>43.0</td>\n",
       "      <td>T</td>\n",
       "      <td>0.01</td>\n",
       "    </tr>\n",
       "    <tr>\n",
       "      <th>6824</th>\n",
       "      <td>STORM: Frontline Nation</td>\n",
       "      <td>PC</td>\n",
       "      <td>2011.0</td>\n",
       "      <td>Strategy</td>\n",
       "      <td>Unknown</td>\n",
       "      <td>60.0</td>\n",
       "      <td>12.0</td>\n",
       "      <td>7.2</td>\n",
       "      <td>13.0</td>\n",
       "      <td>E10+</td>\n",
       "      <td>0.01</td>\n",
       "    </tr>\n",
       "  </tbody>\n",
       "</table>\n",
       "<p>6825 rows × 11 columns</p>\n",
       "</div>"
      ],
      "text/plain": [
       "                                   Name Platform  Year_of_Release     Genre  \\\n",
       "0                            Wii Sports      Wii           2006.0    Sports   \n",
       "1                        Mario Kart Wii      Wii           2008.0    Racing   \n",
       "2                     Wii Sports Resort      Wii           2009.0    Sports   \n",
       "3                 New Super Mario Bros.       DS           2006.0  Platform   \n",
       "4                              Wii Play      Wii           2006.0      Misc   \n",
       "...                                 ...      ...              ...       ...   \n",
       "6820         E.T. The Extra-Terrestrial      GBA           2001.0    Action   \n",
       "6821     Mortal Kombat: Deadly Alliance      GBA           2002.0  Fighting   \n",
       "6822  Metal Gear Solid V: Ground Zeroes       PC           2014.0    Action   \n",
       "6823                             Breach       PC           2011.0   Shooter   \n",
       "6824            STORM: Frontline Nation       PC           2011.0  Strategy   \n",
       "\n",
       "                         Publisher  Critic_Score  Critic_Count  User_Score  \\\n",
       "0                         Nintendo          76.0          51.0         8.0   \n",
       "1                         Nintendo          82.0          73.0         8.3   \n",
       "2                         Nintendo          80.0          73.0         8.0   \n",
       "3                         Nintendo          89.0          65.0         8.5   \n",
       "4                         Nintendo          58.0          41.0         6.6   \n",
       "...                            ...           ...           ...         ...   \n",
       "6820                      NewKidCo          46.0           4.0         2.4   \n",
       "6821                  Midway Games          81.0          12.0         8.8   \n",
       "6822  Konami Digital Entertainment          80.0          20.0         7.6   \n",
       "6823                     Destineer          61.0          12.0         5.8   \n",
       "6824                       Unknown          60.0          12.0         7.2   \n",
       "\n",
       "      User_Count Rating  Global_Sales  \n",
       "0          322.0      E         82.53  \n",
       "1          709.0      E         35.52  \n",
       "2          192.0      E         32.77  \n",
       "3          431.0      E         29.80  \n",
       "4          129.0      E         28.92  \n",
       "...          ...    ...           ...  \n",
       "6820        21.0      E          0.01  \n",
       "6821         9.0      M          0.01  \n",
       "6822       412.0      M          0.01  \n",
       "6823        43.0      T          0.01  \n",
       "6824        13.0   E10+          0.01  \n",
       "\n",
       "[6825 rows x 11 columns]"
      ]
     },
     "execution_count": 9,
     "metadata": {},
     "output_type": "execute_result"
    }
   ],
   "source": [
    "df"
   ]
  },
  {
   "cell_type": "markdown",
   "id": "179051c8",
   "metadata": {},
   "source": [
    "### 2. Exploratory Data Analysis"
   ]
  },
  {
   "cell_type": "code",
   "execution_count": 10,
   "id": "9c48cd4e",
   "metadata": {},
   "outputs": [],
   "source": [
    "import matplotlib.pyplot as plt\n",
    "import seaborn as sns"
   ]
  },
  {
   "cell_type": "code",
   "execution_count": 11,
   "id": "1edf4c87",
   "metadata": {},
   "outputs": [
    {
     "data": {
      "text/plain": [
       "Text(0, 0.5, 'Global Sales (in Millions)')"
      ]
     },
     "execution_count": 11,
     "metadata": {},
     "output_type": "execute_result"
    },
    {
     "data": {
      "image/png": "[encoded data removed]",
      "text/plain": [
       "<Figure size 1080x360 with 1 Axes>"
      ]
     },
     "metadata": {
      "needs_background": "light"
     },
     "output_type": "display_data"
    }
   ],
   "source": [
    "# Sales by Platform\n",
    "df_platform = df.groupby('Platform').agg({'Global_Sales':sum})\n",
    "plt.figure(figsize=(15,5))\n",
    "plt.bar(df_platform.index,df_platform['Global_Sales'],width=0.7)\n",
    "plt.title('Global Sales by Platform')\n",
    "plt.xlabel('Platform')\n",
    "plt.ylabel('Global Sales (in Millions)')"
   ]
  },
  {
   "cell_type": "code",
   "execution_count": 12,
   "id": "0c2a95f2",
   "metadata": {},
   "outputs": [
    {
     "data": {
      "text/plain": [
       "Text(0, 0.5, 'Global Sales (in Millions)')"
      ]
     },
     "execution_count": 12,
     "metadata": {},
     "output_type": "execute_result"
    },
    {
     "data": {
      "image/png": "[encoded data removed]",
      "text/plain": [
       "<Figure size 1080x360 with 1 Axes>"
      ]
     },
     "metadata": {
      "needs_background": "light"
     },
     "output_type": "display_data"
    }
   ],
   "source": [
    "# Sales by Year\n",
    "df_year = df.groupby('Year_of_Release').agg({'Global_Sales':sum})\n",
    "plt.figure(figsize=(15,5))\n",
    "plt.bar(df_year.index,df_year['Global_Sales'],width=0.7)\n",
    "plt.title('Global Sales by Year')\n",
    "plt.xlabel('Year')\n",
    "plt.ylabel('Global Sales (in Millions)')"
   ]
  },
  {
   "cell_type": "code",
   "execution_count": 13,
   "id": "5f966f39",
   "metadata": {},
   "outputs": [
    {
     "data": {
      "text/plain": [
       "Text(0, 0.5, 'Global Sales (in Millions)')"
      ]
     },
     "execution_count": 13,
     "metadata": {},
     "output_type": "execute_result"
    },
    {
     "data": {
      "image/png": "[encoded data removed]",
      "text/plain": [
       "<Figure size 1080x360 with 1 Axes>"
      ]
     },
     "metadata": {
      "needs_background": "light"
     },
     "output_type": "display_data"
    }
   ],
   "source": [
    "# Sales by Genre\n",
    "df_genre = df.groupby('Genre').agg({'Global_Sales':sum})\n",
    "plt.figure(figsize=(15,5))\n",
    "plt.bar(df_genre.index,df_genre['Global_Sales'],width=0.7)\n",
    "plt.title('Global Sales by Genre')\n",
    "plt.xlabel('Genre')\n",
    "plt.ylabel('Global Sales (in Millions)')"
   ]
  },
  {
   "cell_type": "code",
   "execution_count": 14,
   "id": "7e835ca5",
   "metadata": {},
   "outputs": [
    {
     "data": {
      "text/plain": [
       "Text(0, 0.5, 'Global Sales (in Millions)')"
      ]
     },
     "execution_count": 14,
     "metadata": {},
     "output_type": "execute_result"
    },
    {
     "data": {
      "image/png": "[encoded data removed]",
      "text/plain": [
       "<Figure size 1080x360 with 1 Axes>"
      ]
     },
     "metadata": {
      "needs_background": "light"
     },
     "output_type": "display_data"
    }
   ],
   "source": [
    "# Sales by Rating\n",
    "df_rating = df.groupby('Rating').agg({'Global_Sales':sum})\n",
    "plt.figure(figsize=(15,5))\n",
    "plt.bar(df_rating.index,df_rating['Global_Sales'],width=0.7)\n",
    "plt.title('Global Sales by Rating')\n",
    "plt.xlabel('Genre')\n",
    "plt.ylabel('Global Sales (in Millions)')"
   ]
  },
  {
   "cell_type": "code",
   "execution_count": 15,
   "id": "7d94df69",
   "metadata": {
    "scrolled": true
   },
   "outputs": [
    {
     "data": {
      "text/plain": [
       "<matplotlib.collections.PathCollection at 0x120bf8670>"
      ]
     },
     "execution_count": 15,
     "metadata": {},
     "output_type": "execute_result"
    },
    {
     "data": {
      "image/png": "[encoded data removed]",
      "text/plain": [
       "<Figure size 1080x360 with 1 Axes>"
      ]
     },
     "metadata": {
      "needs_background": "light"
     },
     "output_type": "display_data"
    }
   ],
   "source": [
    "# Critic Score - Global Sales Scatter Plot\n",
    "plt.figure(figsize=(15,5))\n",
    "plt.scatter(df['Critic_Score'],df['Global_Sales'])"
   ]
  },
  {
   "cell_type": "code",
   "execution_count": 16,
   "id": "75ccebc4",
   "metadata": {},
   "outputs": [],
   "source": [
    "# Removing Outliers\n",
    "df = df[df['Global_Sales'] < 60.0]"
   ]
  },
  {
   "cell_type": "code",
   "execution_count": 17,
   "id": "b2c89d63",
   "metadata": {},
   "outputs": [
    {
     "data": {
      "text/plain": [
       "<matplotlib.collections.PathCollection at 0x120ced460>"
      ]
     },
     "execution_count": 17,
     "metadata": {},
     "output_type": "execute_result"
    },
    {
     "data": {
      "image/png": "[encoded data removed]",
      "text/plain": [
       "<Figure size 1080x360 with 1 Axes>"
      ]
     },
     "metadata": {
      "needs_background": "light"
     },
     "output_type": "display_data"
    }
   ],
   "source": [
    "# User Score - Global Sales Scatter Plot\n",
    "plt.figure(figsize=(15,5))\n",
    "plt.scatter(df['User_Score'],df['Global_Sales'])"
   ]
  },
  {
   "cell_type": "code",
   "execution_count": 18,
   "id": "79118f2a",
   "metadata": {},
   "outputs": [
    {
     "data": {
      "text/plain": [
       "<matplotlib.collections.PathCollection at 0x120e4e160>"
      ]
     },
     "execution_count": 18,
     "metadata": {},
     "output_type": "execute_result"
    },
    {
     "data": {
      "image/png": "[encoded data removed]",
      "text/plain": [
       "<Figure size 1080x360 with 1 Axes>"
      ]
     },
     "metadata": {
      "needs_background": "light"
     },
     "output_type": "display_data"
    }
   ],
   "source": [
    "# Critic Count - Global Sales Scatter Plot\n",
    "plt.figure(figsize=(15,5))\n",
    "plt.scatter(df['Critic_Count'],df['Global_Sales'])"
   ]
  },
  {
   "cell_type": "code",
   "execution_count": 19,
   "id": "5040d645",
   "metadata": {},
   "outputs": [
    {
     "data": {
      "text/plain": [
       "<matplotlib.collections.PathCollection at 0x120ea4340>"
      ]
     },
     "execution_count": 19,
     "metadata": {},
     "output_type": "execute_result"
    },
    {
     "data": {
      "image/png": "[encoded data removed]",
      "text/plain": [
       "<Figure size 1080x360 with 1 Axes>"
      ]
     },
     "metadata": {
      "needs_background": "light"
     },
     "output_type": "display_data"
    }
   ],
   "source": [
    "# User Count - Global Sales Scatter Plot\n",
    "plt.figure(figsize=(15,5))\n",
    "plt.scatter(df['User_Count'],df['Global_Sales'])"
   ]
  },
  {
   "cell_type": "markdown",
   "id": "7982ec5a",
   "metadata": {},
   "source": [
    "We observe that Global_Sales has an **expontential relationship** with User_Score, Critic_Score and Critic_Count. To aid in applying a regression model more easily, we can transform the Global_Sales using **logarithm function.**"
   ]
  },
  {
   "cell_type": "code",
   "execution_count": 20,
   "id": "8fb54e5d",
   "metadata": {},
   "outputs": [
    {
     "name": "stderr",
     "output_type": "stream",
     "text": [
      "<ipython-input-20-a04c2d0ae499>:2: SettingWithCopyWarning: \n",
      "A value is trying to be set on a copy of a slice from a DataFrame.\n",
      "Try using .loc[row_indexer,col_indexer] = value instead\n",
      "\n",
      "See the caveats in the documentation: https://pandas.pydata.org/pandas-docs/stable/user_guide/indexing.html#returning-a-view-versus-a-copy\n",
      "  df['Log_Sales'] = df['Global_Sales'].apply(lambda x:math.log10(x))\n"
     ]
    },
    {
     "data": {
      "text/html": [
       "<div>\n",
       "<style scoped>\n",
       "    .dataframe tbody tr th:only-of-type {\n",
       "        vertical-align: middle;\n",
       "    }\n",
       "\n",
       "    .dataframe tbody tr th {\n",
       "        vertical-align: top;\n",
       "    }\n",
       "\n",
       "    .dataframe thead th {\n",
       "        text-align: right;\n",
       "    }\n",
       "</style>\n",
       "<table border=\"1\" class=\"dataframe\">\n",
       "  <thead>\n",
       "    <tr style=\"text-align: right;\">\n",
       "      <th></th>\n",
       "      <th>Name</th>\n",
       "      <th>Platform</th>\n",
       "      <th>Year_of_Release</th>\n",
       "      <th>Genre</th>\n",
       "      <th>Publisher</th>\n",
       "      <th>Critic_Score</th>\n",
       "      <th>Critic_Count</th>\n",
       "      <th>User_Score</th>\n",
       "      <th>User_Count</th>\n",
       "      <th>Rating</th>\n",
       "      <th>Global_Sales</th>\n",
       "      <th>Log_Sales</th>\n",
       "    </tr>\n",
       "  </thead>\n",
       "  <tbody>\n",
       "    <tr>\n",
       "      <th>1</th>\n",
       "      <td>Mario Kart Wii</td>\n",
       "      <td>Wii</td>\n",
       "      <td>2008.0</td>\n",
       "      <td>Racing</td>\n",
       "      <td>Nintendo</td>\n",
       "      <td>82.0</td>\n",
       "      <td>73.0</td>\n",
       "      <td>8.3</td>\n",
       "      <td>709.0</td>\n",
       "      <td>E</td>\n",
       "      <td>35.52</td>\n",
       "      <td>1.550473</td>\n",
       "    </tr>\n",
       "    <tr>\n",
       "      <th>2</th>\n",
       "      <td>Wii Sports Resort</td>\n",
       "      <td>Wii</td>\n",
       "      <td>2009.0</td>\n",
       "      <td>Sports</td>\n",
       "      <td>Nintendo</td>\n",
       "      <td>80.0</td>\n",
       "      <td>73.0</td>\n",
       "      <td>8.0</td>\n",
       "      <td>192.0</td>\n",
       "      <td>E</td>\n",
       "      <td>32.77</td>\n",
       "      <td>1.515476</td>\n",
       "    </tr>\n",
       "    <tr>\n",
       "      <th>3</th>\n",
       "      <td>New Super Mario Bros.</td>\n",
       "      <td>DS</td>\n",
       "      <td>2006.0</td>\n",
       "      <td>Platform</td>\n",
       "      <td>Nintendo</td>\n",
       "      <td>89.0</td>\n",
       "      <td>65.0</td>\n",
       "      <td>8.5</td>\n",
       "      <td>431.0</td>\n",
       "      <td>E</td>\n",
       "      <td>29.80</td>\n",
       "      <td>1.474216</td>\n",
       "    </tr>\n",
       "    <tr>\n",
       "      <th>4</th>\n",
       "      <td>Wii Play</td>\n",
       "      <td>Wii</td>\n",
       "      <td>2006.0</td>\n",
       "      <td>Misc</td>\n",
       "      <td>Nintendo</td>\n",
       "      <td>58.0</td>\n",
       "      <td>41.0</td>\n",
       "      <td>6.6</td>\n",
       "      <td>129.0</td>\n",
       "      <td>E</td>\n",
       "      <td>28.92</td>\n",
       "      <td>1.461198</td>\n",
       "    </tr>\n",
       "    <tr>\n",
       "      <th>5</th>\n",
       "      <td>New Super Mario Bros. Wii</td>\n",
       "      <td>Wii</td>\n",
       "      <td>2009.0</td>\n",
       "      <td>Platform</td>\n",
       "      <td>Nintendo</td>\n",
       "      <td>87.0</td>\n",
       "      <td>80.0</td>\n",
       "      <td>8.4</td>\n",
       "      <td>594.0</td>\n",
       "      <td>E</td>\n",
       "      <td>28.32</td>\n",
       "      <td>1.452093</td>\n",
       "    </tr>\n",
       "    <tr>\n",
       "      <th>...</th>\n",
       "      <td>...</td>\n",
       "      <td>...</td>\n",
       "      <td>...</td>\n",
       "      <td>...</td>\n",
       "      <td>...</td>\n",
       "      <td>...</td>\n",
       "      <td>...</td>\n",
       "      <td>...</td>\n",
       "      <td>...</td>\n",
       "      <td>...</td>\n",
       "      <td>...</td>\n",
       "      <td>...</td>\n",
       "    </tr>\n",
       "    <tr>\n",
       "      <th>6820</th>\n",
       "      <td>E.T. The Extra-Terrestrial</td>\n",
       "      <td>GBA</td>\n",
       "      <td>2001.0</td>\n",
       "      <td>Action</td>\n",
       "      <td>NewKidCo</td>\n",
       "      <td>46.0</td>\n",
       "      <td>4.0</td>\n",
       "      <td>2.4</td>\n",
       "      <td>21.0</td>\n",
       "      <td>E</td>\n",
       "      <td>0.01</td>\n",
       "      <td>-2.000000</td>\n",
       "    </tr>\n",
       "    <tr>\n",
       "      <th>6821</th>\n",
       "      <td>Mortal Kombat: Deadly Alliance</td>\n",
       "      <td>GBA</td>\n",
       "      <td>2002.0</td>\n",
       "      <td>Fighting</td>\n",
       "      <td>Midway Games</td>\n",
       "      <td>81.0</td>\n",
       "      <td>12.0</td>\n",
       "      <td>8.8</td>\n",
       "      <td>9.0</td>\n",
       "      <td>M</td>\n",
       "      <td>0.01</td>\n",
       "      <td>-2.000000</td>\n",
       "    </tr>\n",
       "    <tr>\n",
       "      <th>6822</th>\n",
       "      <td>Metal Gear Solid V: Ground Zeroes</td>\n",
       "      <td>PC</td>\n",
       "      <td>2014.0</td>\n",
       "      <td>Action</td>\n",
       "      <td>Konami Digital Entertainment</td>\n",
       "      <td>80.0</td>\n",
       "      <td>20.0</td>\n",
       "      <td>7.6</td>\n",
       "      <td>412.0</td>\n",
       "      <td>M</td>\n",
       "      <td>0.01</td>\n",
       "      <td>-2.000000</td>\n",
       "    </tr>\n",
       "    <tr>\n",
       "      <th>6823</th>\n",
       "      <td>Breach</td>\n",
       "      <td>PC</td>\n",
       "      <td>2011.0</td>\n",
       "      <td>Shooter</td>\n",
       "      <td>Destineer</td>\n",
       "      <td>61.0</td>\n",
       "      <td>12.0</td>\n",
       "      <td>5.8</td>\n",
       "      <td>43.0</td>\n",
       "      <td>T</td>\n",
       "      <td>0.01</td>\n",
       "      <td>-2.000000</td>\n",
       "    </tr>\n",
       "    <tr>\n",
       "      <th>6824</th>\n",
       "      <td>STORM: Frontline Nation</td>\n",
       "      <td>PC</td>\n",
       "      <td>2011.0</td>\n",
       "      <td>Strategy</td>\n",
       "      <td>Unknown</td>\n",
       "      <td>60.0</td>\n",
       "      <td>12.0</td>\n",
       "      <td>7.2</td>\n",
       "      <td>13.0</td>\n",
       "      <td>E10+</td>\n",
       "      <td>0.01</td>\n",
       "      <td>-2.000000</td>\n",
       "    </tr>\n",
       "  </tbody>\n",
       "</table>\n",
       "<p>6824 rows × 12 columns</p>\n",
       "</div>"
      ],
      "text/plain": [
       "                                   Name Platform  Year_of_Release     Genre  \\\n",
       "1                        Mario Kart Wii      Wii           2008.0    Racing   \n",
       "2                     Wii Sports Resort      Wii           2009.0    Sports   \n",
       "3                 New Super Mario Bros.       DS           2006.0  Platform   \n",
       "4                              Wii Play      Wii           2006.0      Misc   \n",
       "5             New Super Mario Bros. Wii      Wii           2009.0  Platform   \n",
       "...                                 ...      ...              ...       ...   \n",
       "6820         E.T. The Extra-Terrestrial      GBA           2001.0    Action   \n",
       "6821     Mortal Kombat: Deadly Alliance      GBA           2002.0  Fighting   \n",
       "6822  Metal Gear Solid V: Ground Zeroes       PC           2014.0    Action   \n",
       "6823                             Breach       PC           2011.0   Shooter   \n",
       "6824            STORM: Frontline Nation       PC           2011.0  Strategy   \n",
       "\n",
       "                         Publisher  Critic_Score  Critic_Count  User_Score  \\\n",
       "1                         Nintendo          82.0          73.0         8.3   \n",
       "2                         Nintendo          80.0          73.0         8.0   \n",
       "3                         Nintendo          89.0          65.0         8.5   \n",
       "4                         Nintendo          58.0          41.0         6.6   \n",
       "5                         Nintendo          87.0          80.0         8.4   \n",
       "...                            ...           ...           ...         ...   \n",
       "6820                      NewKidCo          46.0           4.0         2.4   \n",
       "6821                  Midway Games          81.0          12.0         8.8   \n",
       "6822  Konami Digital Entertainment          80.0          20.0         7.6   \n",
       "6823                     Destineer          61.0          12.0         5.8   \n",
       "6824                       Unknown          60.0          12.0         7.2   \n",
       "\n",
       "      User_Count Rating  Global_Sales  Log_Sales  \n",
       "1          709.0      E         35.52   1.550473  \n",
       "2          192.0      E         32.77   1.515476  \n",
       "3          431.0      E         29.80   1.474216  \n",
       "4          129.0      E         28.92   1.461198  \n",
       "5          594.0      E         28.32   1.452093  \n",
       "...          ...    ...           ...        ...  \n",
       "6820        21.0      E          0.01  -2.000000  \n",
       "6821         9.0      M          0.01  -2.000000  \n",
       "6822       412.0      M          0.01  -2.000000  \n",
       "6823        43.0      T          0.01  -2.000000  \n",
       "6824        13.0   E10+          0.01  -2.000000  \n",
       "\n",
       "[6824 rows x 12 columns]"
      ]
     },
     "execution_count": 20,
     "metadata": {},
     "output_type": "execute_result"
    }
   ],
   "source": [
    "import math\n",
    "df['Log_Sales'] = df['Global_Sales'].apply(lambda x:math.log10(x))\n",
    "df"
   ]
  },
  {
   "cell_type": "code",
   "execution_count": 21,
   "id": "f3d7e3fe",
   "metadata": {},
   "outputs": [
    {
     "data": {
      "text/plain": [
       "<AxesSubplot:>"
      ]
     },
     "execution_count": 21,
     "metadata": {},
     "output_type": "execute_result"
    },
    {
     "data": {
      "image/png": "[encoded data removed]",
      "text/plain": [
       "<Figure size 1080x180 with 4 Axes>"
      ]
     },
     "metadata": {
      "needs_background": "light"
     },
     "output_type": "display_data"
    },
    {
     "data": {
      "image/png": "[encoded data removed]",
      "text/plain": [
       "<Figure size 432x288 with 2 Axes>"
      ]
     },
     "metadata": {
      "needs_background": "light"
     },
     "output_type": "display_data"
    }
   ],
   "source": [
    "sns.pairplot(df,x_vars=['Critic_Score','User_Score','Critic_Count','User_Count'],y_vars='Log_Sales',aspect=1.5,kind='reg')\n",
    "plt.figure()\n",
    "sns.heatmap(df.corr(),annot=True)"
   ]
  },
  {
   "cell_type": "markdown",
   "id": "8a8d9eea",
   "metadata": {},
   "source": [
    "We see some correlation between sales and features like Critic Score and Critic Count. This tells us that some features are slightly more important than others. To confirm this and eliminate the features that are not required, lets perform Principal Component Analysis (PCA) on the dataset."
   ]
  },
  {
   "cell_type": "code",
   "execution_count": 39,
   "id": "35f5d9ef",
   "metadata": {},
   "outputs": [],
   "source": [
    "# Scaling features and fitting PCA model\n",
    "from sklearn.preprocessing import MinMaxScaler\n",
    "from sklearn.decomposition import PCA\n",
    "\n",
    "scaler = MinMaxScaler()\n",
    "X_scaled = scaler.fit_transform(X)\n",
    "pca = PCA()\n",
    "pca.fit(X_scaled)\n",
    "pca_data = pca.transform(X_scaled)"
   ]
  },
  {
   "cell_type": "code",
   "execution_count": 41,
   "id": "8793e04f",
   "metadata": {},
   "outputs": [
    {
     "data": {
      "image/png": "[encoded data removed]",
      "text/plain": [
       "<Figure size 432x288 with 1 Axes>"
      ]
     },
     "metadata": {
      "needs_background": "light"
     },
     "output_type": "display_data"
    }
   ],
   "source": [
    "# Plotting a Scree Plot\n",
    "pca_variance = np.round(pca.explained_variance_*100,decimals=1)\n",
    "pca_labels = ['PC'+str(i) for i in range(1,10)]\n",
    "plt.bar(x=range(1,10),height=pca_variance,tick_label=pca_labels)\n",
    "plt.xlabel('Principal Component')\n",
    "plt.ylabel('Variance%')\n",
    "plt.title('Scree Plot')\n",
    "plt.show()"
   ]
  },
  {
   "cell_type": "code",
   "execution_count": 53,
   "id": "a33d969e",
   "metadata": {},
   "outputs": [
    {
     "name": "stdout",
     "output_type": "stream",
     "text": [
      "Genre              1.685034\n",
      "Rating             1.548730\n",
      "Publisher          1.444949\n",
      "Platform           0.481595\n",
      "Critic_Count       0.291101\n",
      "Critic_Score       0.210841\n",
      "User_Score         0.127116\n",
      "Year_of_Release    0.075909\n",
      "User_Count         0.033734\n",
      "dtype: float64\n"
     ]
    }
   ],
   "source": [
    "# Calculating the Loading Scores\n",
    "loading_scores_1 = pd.Series(pca.components_[0],index=X.columns)\n",
    "loading_scores_1 = loading_scores_1.abs().sort_values(ascending=False)\n",
    "loading_scores_2 = pd.Series(pca.components_[1],index=X.columns)\n",
    "loading_scores_2 = loading_scores_2.abs().sort_values(ascending=False)\n",
    "loading_scores_3 = pd.Series(pca.components_[2],index=X.columns)\n",
    "loading_scores_3 = loading_scores_3.abs().sort_values(ascending=False)\n",
    "\n",
    "loading_scores = loading_scores_1+loading_scores_2+loading_scores_3\n",
    "loading_scores = loading_scores.abs().sort_values(ascending=False)\n",
    "print(loading_scores)"
   ]
  },
  {
   "cell_type": "markdown",
   "id": "7a0ade81",
   "metadata": {},
   "source": [
    "After performing the Principal Component Analysis and plotting a Scree Plot we can see that none of the Principal Components contribute to majority of the variance in the dataset, hence we can't remove any features. This tells us that even though there are some trends, the relation between sales and the features is more complex, hence requires a regression model to derive a relationship."
   ]
  },
  {
   "cell_type": "markdown",
   "id": "b4cdde73",
   "metadata": {},
   "source": [
    "### 3. Comparing Different Regression Models\n",
    "Now, lets apply some regression models to our dataset and see how they perform. We will be looking at mean absolute error, root mean square error but will be using the R-squared value to determine the best performing model. "
   ]
  },
  {
   "cell_type": "markdown",
   "id": "f57acd2a",
   "metadata": {},
   "source": [
    "**a. Random Forest Regressor:** Since Random Forest Regressors provide really good off the shelf performance, and does not require extensive parameter tuning, we will be using this first."
   ]
  },
  {
   "cell_type": "code",
   "execution_count": 22,
   "id": "2c69f711",
   "metadata": {},
   "outputs": [
    {
     "name": "stderr",
     "output_type": "stream",
     "text": [
      "<ipython-input-22-54bf79acf453>:7: SettingWithCopyWarning: \n",
      "A value is trying to be set on a copy of a slice from a DataFrame.\n",
      "Try using .loc[row_indexer,col_indexer] = value instead\n",
      "\n",
      "See the caveats in the documentation: https://pandas.pydata.org/pandas-docs/stable/user_guide/indexing.html#returning-a-view-versus-a-copy\n",
      "  df['Platform'] = le.transform(df['Platform'])\n",
      "<ipython-input-22-54bf79acf453>:10: SettingWithCopyWarning: \n",
      "A value is trying to be set on a copy of a slice from a DataFrame.\n",
      "Try using .loc[row_indexer,col_indexer] = value instead\n",
      "\n",
      "See the caveats in the documentation: https://pandas.pydata.org/pandas-docs/stable/user_guide/indexing.html#returning-a-view-versus-a-copy\n",
      "  df['Genre'] = le.transform(df['Genre'])\n",
      "<ipython-input-22-54bf79acf453>:13: SettingWithCopyWarning: \n",
      "A value is trying to be set on a copy of a slice from a DataFrame.\n",
      "Try using .loc[row_indexer,col_indexer] = value instead\n",
      "\n",
      "See the caveats in the documentation: https://pandas.pydata.org/pandas-docs/stable/user_guide/indexing.html#returning-a-view-versus-a-copy\n",
      "  df['Publisher'] = le.transform(df['Publisher'])\n",
      "<ipython-input-22-54bf79acf453>:16: SettingWithCopyWarning: \n",
      "A value is trying to be set on a copy of a slice from a DataFrame.\n",
      "Try using .loc[row_indexer,col_indexer] = value instead\n",
      "\n",
      "See the caveats in the documentation: https://pandas.pydata.org/pandas-docs/stable/user_guide/indexing.html#returning-a-view-versus-a-copy\n",
      "  df['Rating'] = le.transform(df['Rating'])\n"
     ]
    }
   ],
   "source": [
    "# Converting Object Classes to Numeric Classes\n",
    "from sklearn import preprocessing\n",
    "\n",
    "le = preprocessing.LabelEncoder()\n",
    "\n",
    "le.fit(df['Platform'])\n",
    "df['Platform'] = le.transform(df['Platform'])\n",
    "\n",
    "le.fit(df['Genre'])\n",
    "df['Genre'] = le.transform(df['Genre'])\n",
    "\n",
    "le.fit(df['Publisher'])\n",
    "df['Publisher'] = le.transform(df['Publisher'])\n",
    "\n",
    "le.fit(df['Rating'])\n",
    "df['Rating'] = le.transform(df['Rating'])"
   ]
  },
  {
   "cell_type": "code",
   "execution_count": 23,
   "id": "21f998a9",
   "metadata": {},
   "outputs": [],
   "source": [
    "# Performing the Train-Test Split\n",
    "from sklearn.model_selection import train_test_split\n",
    "\n",
    "X = df[['Platform','Year_of_Release','Genre','Publisher','Critic_Score','Critic_Count','User_Score','User_Count','Rating']]\n",
    "y = df['Log_Sales']\n",
    "\n",
    "X_train, X_test, y_train, y_test = train_test_split(X,y,random_state = 0)"
   ]
  },
  {
   "cell_type": "code",
   "execution_count": 24,
   "id": "4ca8dd54",
   "metadata": {},
   "outputs": [
    {
     "name": "stdout",
     "output_type": "stream",
     "text": [
      "R_squared: Training=0.940919387129189; Test=0.6093650933895318\n",
      "MAE=0.2903903947830873; MSE=0.14464560874361526; RMSE=0.3803230320972098\n"
     ]
    }
   ],
   "source": [
    "from sklearn.ensemble import RandomForestRegressor\n",
    "import sklearn.metrics as metrics\n",
    "\n",
    "clf = RandomForestRegressor(n_estimators=500,random_state = 0).fit(X_train,y_train)\n",
    "y_pred = clf.predict(X_test)\n",
    "mae = metrics.mean_absolute_error(y_test, y_pred)\n",
    "mse = metrics.mean_squared_error(y_test, y_pred)\n",
    "rmse = np.sqrt(mse) \n",
    "\n",
    "print(\"R_squared: Training={}; Test={}\".format(clf.score(X_train,y_train),clf.score(X_test,y_test)))\n",
    "print(\"MAE={}; MSE={}; RMSE={}\".format(mae,mse,rmse))"
   ]
  },
  {
   "cell_type": "markdown",
   "id": "a9773fc7",
   "metadata": {},
   "source": [
    "The R-squared value we get from the Random Forest Regressor for the test-set is ~0.61 while it is ~0.94 for the training-set. This is a clear sign of overfitting and it leaves some room for improvement."
   ]
  },
  {
   "cell_type": "markdown",
   "id": "4dad1b35",
   "metadata": {},
   "source": [
    "**b. Gradient Boosted Decision Tree:** The second model well be using is the GBDT Regressor. Though it is still an ensemble model known for its high plug-and-go performance, it can be optimized with some parameter tuning."
   ]
  },
  {
   "cell_type": "code",
   "execution_count": 25,
   "id": "cb9d8ff6",
   "metadata": {},
   "outputs": [
    {
     "data": {
      "text/plain": [
       "Text(0, 0.5, 'R_squared')"
      ]
     },
     "execution_count": 25,
     "metadata": {},
     "output_type": "execute_result"
    },
    {
     "data": {
      "image/png": "[encoded data removed]",
      "text/plain": [
       "<Figure size 432x288 with 1 Axes>"
      ]
     },
     "metadata": {
      "needs_background": "light"
     },
     "output_type": "display_data"
    }
   ],
   "source": [
    "from sklearn.ensemble import GradientBoostingRegressor\n",
    "\n",
    "train = []\n",
    "test = []\n",
    "\n",
    "for ne in [10,100,250,500,1000]:\n",
    "    clf = GradientBoostingRegressor(n_estimators=ne,random_state = 0).fit(X_train,y_train)\n",
    "    train.append(clf.score(X_train,y_train))\n",
    "    test.append(clf.score(X_test,y_test))\n",
    "\n",
    "plt.plot([10,100,250,500,1000],train,label='Train')\n",
    "plt.plot([10,100,250,500,1000],test,label='Test')\n",
    "plt.legend()\n",
    "plt.xlabel('n_estimators')\n",
    "plt.ylabel('R_squared')"
   ]
  },
  {
   "cell_type": "markdown",
   "id": "7ff7e2d6",
   "metadata": {},
   "source": [
    "While tuning parameters for Gradient Boosted Decision Tree, we tune for n_estimators first and then learning rate. From the chart above we can see the best value for n_estimators for Test-set accuracy while avoiding overfitting is 500. We then tune for learning rate below and plug in the values for R-squared and plug it into our model."
   ]
  },
  {
   "cell_type": "code",
   "execution_count": 26,
   "id": "a45590db",
   "metadata": {},
   "outputs": [
    {
     "data": {
      "text/plain": [
       "Text(0, 0.5, 'R_squared')"
      ]
     },
     "execution_count": 26,
     "metadata": {},
     "output_type": "execute_result"
    },
    {
     "data": {
      "image/png": "[encoded data removed]",
      "text/plain": [
       "<Figure size 432x288 with 1 Axes>"
      ]
     },
     "metadata": {
      "needs_background": "light"
     },
     "output_type": "display_data"
    }
   ],
   "source": [
    "train = []\n",
    "test = []\n",
    "\n",
    "for lr in [0.01,0.1,0.25,0.5,0.75,1]:\n",
    "    clf = GradientBoostingRegressor(n_estimators=250,learning_rate=lr,random_state = 0).fit(X_train,y_train)\n",
    "    train.append(clf.score(X_train,y_train))\n",
    "    test.append(clf.score(X_test,y_test))\n",
    "\n",
    "plt.plot([0.01,0.1,0.25,0.5,0.75,1],train,label='Train')\n",
    "plt.plot([0.01,0.1,0.25,0.5,0.75,1],test,label='Test')\n",
    "plt.legend()\n",
    "plt.xlabel('learning_rate')\n",
    "plt.ylabel('R_squared')"
   ]
  },
  {
   "cell_type": "code",
   "execution_count": 27,
   "id": "e4b22721",
   "metadata": {},
   "outputs": [
    {
     "name": "stdout",
     "output_type": "stream",
     "text": [
      "R_squared: Training=0.7360536545669545; Test=0.6482021052131324\n",
      "MAE=0.2760581044908504; MSE=0.1302649092158861; RMSE=0.3609223035722316\n"
     ]
    }
   ],
   "source": [
    "clf = GradientBoostingRegressor(n_estimators=500,learning_rate=0.1,random_state = 0).fit(X_train,y_train)\n",
    "y_pred = clf.predict(X_test)\n",
    "mae = metrics.mean_absolute_error(y_test, y_pred)\n",
    "mse = metrics.mean_squared_error(y_test, y_pred)\n",
    "rmse = np.sqrt(mse) \n",
    "\n",
    "print(\"R_squared: Training={}; Test={}\".format(clf.score(X_train,y_train),clf.score(X_test,y_test)))\n",
    "print(\"MAE={}; MSE={}; RMSE={}\".format(mae,mse,rmse))"
   ]
  },
  {
   "cell_type": "markdown",
   "id": "ed19b873",
   "metadata": {},
   "source": [
    "Our Gradient Boosted model does not seem to overfit the training data like the Random Forest model and also has an improved R-squared value of ~0.65. We will now try a linear model to see if we can improve our performance."
   ]
  },
  {
   "cell_type": "markdown",
   "id": "4161ad6e",
   "metadata": {},
   "source": [
    "**c. Support Vector Machine:** The first linear model we will be using is a SVM. We will be using Radial Basis Function Kernel as it would be the best fit for the way our data is distributed. Unlike the decision tree ensembles we used prior to this model, SVM requires scaling of features to get the best performance. We will be using MinMaxScaler for scaling."
   ]
  },
  {
   "cell_type": "code",
   "execution_count": 28,
   "id": "b3f05d20",
   "metadata": {},
   "outputs": [],
   "source": [
    "from sklearn.preprocessing import MinMaxScaler\n",
    "\n",
    "scaler = MinMaxScaler()\n",
    "X_train_scaled = scaler.fit_transform(X_train)\n",
    "X_test_scaled = scaler.transform(X_test)"
   ]
  },
  {
   "cell_type": "code",
   "execution_count": 130,
   "id": "0494adeb",
   "metadata": {},
   "outputs": [
    {
     "name": "stdout",
     "output_type": "stream",
     "text": [
      "Gamma=0.001 Train Score: 0.15835998034431054\n",
      "Gamma=0.001 Test Score: 0.1637536773744417\n",
      "Gamma=0.01 Train Score: 0.2524946952861191\n",
      "Gamma=0.01 Test Score: 0.26565833374190384\n",
      "Gamma=0.1 Train Score: 0.2866585100725625\n",
      "Gamma=0.1 Test Score: 0.293683260784388\n",
      "Gamma=1 Train Score: 0.4102407358790018\n",
      "Gamma=1 Test Score: 0.37657879887086176\n",
      "Gamma=10 Train Score: 0.7444255059000688\n",
      "Gamma=10 Test Score: 0.4055396063013472\n",
      "Gamma=100 Train Score: 0.9524826801356695\n",
      "Gamma=100 Test Score: 0.15180456010458998\n"
     ]
    }
   ],
   "source": [
    "from sklearn.svm import SVR\n",
    "for gam in [0.001,0.01,0.1,1,10,100]:\n",
    "    clf = SVR(kernel='rbf',gamma=gam).fit(X_train_scaled,y_train)\n",
    "    print('Gamma={} Train Score: {}'.format(gam,clf.score(X_train_scaled,y_train)))\n",
    "    print('Gamma={} Test Score: {}'.format(gam,clf.score(X_test_scaled,y_test)))"
   ]
  },
  {
   "cell_type": "code",
   "execution_count": 38,
   "id": "cd77bfdd",
   "metadata": {},
   "outputs": [
    {
     "name": "stdout",
     "output_type": "stream",
     "text": [
      "C=1 Train Score: 0.7444255059000688\n",
      "C=1 Test Score: 0.4055396063013472\n",
      "C=5 Train Score: 0.8801430955118007\n",
      "C=5 Test Score: 0.34870069515072577\n",
      "C=10 Train Score: 0.9164555649880872\n",
      "C=10 Test Score: 0.307294907447592\n",
      "C=25 Train Score: 0.9474153866676784\n",
      "C=25 Test Score: 0.23427147771480872\n",
      "C=50 Train Score: 0.9584050475081303\n",
      "C=50 Test Score: 0.1671284490486289\n",
      "C=75 Train Score: 0.9625572049011795\n",
      "C=75 Test Score: 0.13652416369117515\n",
      "C=100 Train Score: 0.9645634334416382\n",
      "C=100 Test Score: 0.11540760065327937\n"
     ]
    }
   ],
   "source": [
    "for c_val in [1,5,10,25,50,75,100]:\n",
    "    clf = SVR(kernel='rbf',gamma=10,C=c_val).fit(X_train_scaled,y_train)\n",
    "    print('C={} Train Score: {}'.format(c_val,clf.score(X_train_scaled,y_train)))\n",
    "    print('C={} Test Score: {}'.format(c_val,clf.score(X_test_scaled,y_test)))"
   ]
  },
  {
   "cell_type": "code",
   "execution_count": 121,
   "id": "da647602",
   "metadata": {},
   "outputs": [
    {
     "name": "stdout",
     "output_type": "stream",
     "text": [
      "R_squared: Training=0.7444255059000688; Test=0.4055396063013472\n",
      "MAE=0.36566943368724647; MSE=0.22011879651670274; RMSE=0.46916819640370205\n"
     ]
    }
   ],
   "source": [
    "clf = SVR(kernel='rbf',gamma=10,C=1).fit(X_train_scaled,y_train)\n",
    "y_pred = clf.predict(X_test_scaled)\n",
    "mae = metrics.mean_absolute_error(y_test, y_pred)\n",
    "mse = metrics.mean_squared_error(y_test, y_pred)\n",
    "rmse = np.sqrt(mse) \n",
    "\n",
    "print(\"R_squared: Training={}; Test={}\".format(clf.score(X_train_scaled,y_train),clf.score(X_test_scaled,y_test)))\n",
    "print(\"MAE={}; MSE={}; RMSE={}\".format(mae,mse,rmse))"
   ]
  },
  {
   "cell_type": "markdown",
   "id": "9a2e6bde",
   "metadata": {},
   "source": [
    "We see that our SVM model does not achieve better performance than our ensemble models even after some parameter tuning."
   ]
  },
  {
   "cell_type": "markdown",
   "id": "c5f314ef",
   "metadata": {},
   "source": [
    "### 4. Conclusion and Deployment of Final Model\n",
    "After looking at three different models, we obtained the best R-squared value and lowest error values with our Gradient Boosted Decision Tree Regressor. Below we can see the accuracy values of this model"
   ]
  },
  {
   "cell_type": "code",
   "execution_count": 134,
   "id": "1a24f009",
   "metadata": {},
   "outputs": [
    {
     "name": "stdout",
     "output_type": "stream",
     "text": [
      "R_squared:\n",
      "Training=0.7360536545669545\n",
      "Test=0.6482021052131324\n",
      "\n",
      "Error Values:\n",
      "MAE=0.2760581044908504\n",
      "MSE=0.1302649092158861\n",
      "RMSE=0.3609223035722316\n"
     ]
    }
   ],
   "source": [
    "clf = GradientBoostingRegressor(n_estimators=500,learning_rate=0.1,random_state = 0).fit(X_train,y_train)\n",
    "y_pred = clf.predict(X_test)\n",
    "mae = metrics.mean_absolute_error(y_test, y_pred)\n",
    "mse = metrics.mean_squared_error(y_test, y_pred)\n",
    "rmse = np.sqrt(mse) \n",
    "\n",
    "print(\"R_squared:\\nTraining={}\\nTest={}\".format(clf.score(X_train,y_train),clf.score(X_test,y_test)))\n",
    "print(\"\\nError Values:\\nMAE={}\\nMSE={}\\nRMSE={}\".format(mae,mse,rmse))"
   ]
  },
  {
   "cell_type": "markdown",
   "id": "74031d0a",
   "metadata": {},
   "source": [
    "We can also plot the feature importances to see which our features contributed most to the model."
   ]
  },
  {
   "cell_type": "code",
   "execution_count": 144,
   "id": "d2d182be",
   "metadata": {},
   "outputs": [
    {
     "data": {
      "text/plain": [
       "Text(0.5, 1.0, 'Feature Importance')"
      ]
     },
     "execution_count": 144,
     "metadata": {},
     "output_type": "execute_result"
    },
    {
     "data": {
      "image/png": "[encoded data removed]",
      "text/plain": [
       "<Figure size 864x432 with 1 Axes>"
      ]
     },
     "metadata": {
      "needs_background": "light"
     },
     "output_type": "display_data"
    }
   ],
   "source": [
    "feature_importance = clf.feature_importances_\n",
    "sorted_idx = np.argsort(feature_importance)\n",
    "pos = np.arange(sorted_idx.shape[0]) + .5\n",
    "fig = plt.figure(figsize=(12, 6))\n",
    "plt.barh(pos, feature_importance[sorted_idx], align='center')\n",
    "plt.yticks(pos, np.array(X.columns)[sorted_idx])\n",
    "plt.title('Feature Importance')"
   ]
  },
  {
   "cell_type": "markdown",
   "id": "66422c74",
   "metadata": {},
   "source": [
    "Through this project not only did we build a model to predict future sales of newly released games, but we also have the features that are most responsible for determining the game's commercial success. The platform of the games was expected to be one of the most important features due to the differences in console popularity. However I did not expect Critic Score to be more important than Genre or User Score. This is just an example of how we can do so much using data in our day to day lives. This project has inspired me to find other applications of Data Science and Machine Learning in my immediate surroundings and embark on a journey of learning."
   ]
  },
  {
   "cell_type": "code",
   "execution_count": null,
   "id": "b81a6dab",
   "metadata": {},
   "outputs": [],
   "source": []
  }
 ],
 "metadata": {
  "kernelspec": {
   "display_name": "Python 3",
   "language": "python",
   "name": "python3"
  },
  "language_info": {
   "codemirror_mode": {
    "name": "ipython",
    "version": 3
   },
   "file_extension": ".py",
   "mimetype": "text/x-python",
   "name": "python",
   "nbconvert_exporter": "python",
   "pygments_lexer": "ipython3",
   "version": "3.8.8"
  }
 },
 "nbformat": 4,
 "nbformat_minor": 5
}
